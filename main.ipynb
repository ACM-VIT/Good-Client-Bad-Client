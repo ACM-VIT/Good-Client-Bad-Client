{
  "nbformat": 4,
  "nbformat_minor": 0,
  "metadata": {
    "colab": {
      "name": "Untitled0.ipynb",
      "provenance": []
    },
    "kernelspec": {
      "name": "python3",
      "display_name": "Python 3"
    }
  },
  "cells": [
    {
      "cell_type": "markdown",
      "metadata": {
        "id": "f17yT-ge6H5l"
      },
      "source": [
        "# **Data**"
      ]
    },
    {
      "cell_type": "markdown",
      "metadata": {
        "id": "y6JmMMyn6T_6"
      },
      "source": [
        "\n",
        "Two files are available. One, the application data, and the second one monthly credit card account status information.\n",
        "\n",
        "The application data will be used for feature creation. And the status (credit payment status) will be required for defining the labels - which of the applications have paid back dues and which of these turn out to bad accounts."
      ]
    },
    {
      "cell_type": "markdown",
      "metadata": {
        "id": "HQkocJqb5BxU"
      },
      "source": [
        "### 1. Application\n",
        "\n",
        "For a credit card, the customers fill-up the form - online or a physical. The application information is used for assessing the creditworthiness of the customer. In addition to the application information, the Credit Bureau Score e.g. FICO Score in the US, CIBIL Score in India, and other internal information about the applicants are used for the decision.\n",
        "\n",
        "Also, gradually the banks are considering a lot of external data to improve the quality of credit decisions.\n",
        "\n",
        "Now, we expect to read and explore the application sample data file provided.\n"
      ]
    },
    {
      "cell_type": "code",
      "metadata": {
        "id": "YTu89Y6e5AlQ"
      },
      "source": [
        "def read_app_data():\n",
        "#Reading the application data"
      ],
      "execution_count": null,
      "outputs": []
    },
    {
      "cell_type": "markdown",
      "metadata": {
        "id": "v9RGpm697m6E"
      },
      "source": [
        "### 2. Credit Status\n",
        "\n",
        "Once a credit card is issued, the customer uses it for shopping items of its use, a statement is generated to make a payment toward the dues by due date and the customer makes payment. This is a typical credit card cycle.\n",
        "\n",
        "If a customer is not able to make a payment for the minimum due amount, the customer is considered past due for that month.\n",
        "If the non-payment is continued for a period, the customer is considered as a defaulter and the due amount is written off & becomes bad debt. Of course, there is a lot of effort and steps the bank does to recover the due amount and this falls under the collection process.\n",
        "\n",
        "With the modeling process, the aim to learn about the customers who were not able to pay back the dues and not to approve applications of the customers who look similar to these.\n",
        "Of course, we do not know the applications that were rejected and how many of those were actually good customers. This is not in the scope of this blog.\n",
        "\n",
        "For this exercise, the credit status file is given. In this file, the status value is given for each of the applications post approved."
      ]
    },
    {
      "cell_type": "code",
      "metadata": {
        "id": "CLupt4Kd7vu5"
      },
      "source": [
        ""
      ],
      "execution_count": null,
      "outputs": []
    },
    {
      "cell_type": "markdown",
      "metadata": {
        "id": "3DhzXpbe8qbG"
      },
      "source": [
        "## Feature Variable Creation"
      ]
    },
    {
      "cell_type": "code",
      "metadata": {
        "id": "rIDdu8xb8-KA"
      },
      "source": [
        "def feature_creation"
      ],
      "execution_count": null,
      "outputs": []
    },
    {
      "cell_type": "markdown",
      "metadata": {
        "id": "ZbZ7W1kK8_Pp"
      },
      "source": [
        "## Data Exploration "
      ]
    },
    {
      "cell_type": "markdown",
      "metadata": {
        "id": "dxYpOQt_-O6L"
      },
      "source": [
        "Let's check if any of the variables have missing values present.(Hint:There are missing values :) )"
      ]
    },
    {
      "cell_type": "code",
      "metadata": {
        "id": "7sTRgiMW9e6U"
      },
      "source": [
        "def missing_values_table(df):"
      ],
      "execution_count": null,
      "outputs": []
    },
    {
      "cell_type": "markdown",
      "metadata": {
        "id": "S3BnPgZt-H7m"
      },
      "source": [
        "Solving the missing values problem by creating them as a separate class. Now we would want to see bivariate analysis - the analysis between Label variable and each of the feature variables. Based on the analytical type of the feature variables, the analysis may be different. So, we can find an analytical type of feature first. We have written a function definition to find the analytical type of variables.You can try to solve the mising values by any other method too."
      ]
    },
    {
      "cell_type": "code",
      "metadata": {
        "id": "n5ZaKk-k-HLE"
      },
      "source": [
        "def solution_missing_values(df):\n",
        "  # Find Continuous and Categorical Features"
      ],
      "execution_count": null,
      "outputs": []
    },
    {
      "cell_type": "markdown",
      "metadata": {
        "id": "O0t6Ni2a-8zi"
      },
      "source": [
        "### Observations\n"
      ]
    },
    {
      "cell_type": "code",
      "metadata": {
        "id": "tYnZ1xNPAZtC"
      },
      "source": [
        ""
      ],
      "execution_count": null,
      "outputs": []
    }
  ]
}