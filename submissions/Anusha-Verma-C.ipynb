{
 "metadata": {
  "language_info": {
   "codemirror_mode": {
    "name": "ipython",
    "version": 3
   },
   "file_extension": ".py",
   "mimetype": "text/x-python",
   "name": "python",
   "nbconvert_exporter": "python",
   "pygments_lexer": "ipython3",
   "version": "3.7.6-final"
  },
  "orig_nbformat": 2,
  "kernelspec": {
   "name": "Python 3.7.6 64-bit ('base': conda)",
   "display_name": "Python 3.7.6 64-bit ('base': conda)",
   "metadata": {
    "interpreter": {
     "hash": "18f47364f2f4870763990e46b7154981c710d71482bd8194938a3829d09494e5"
    }
   }
  }
 },
 "nbformat": 4,
 "nbformat_minor": 2,
 "cells": [
  {
   "cell_type": "code",
   "execution_count": 1,
   "metadata": {},
   "outputs": [],
   "source": [
    "import numpy as np\n",
    "import matplotlib.pyplot as plt\n",
    "import pandas as pd\n",
    "\n",
    "\n"
   ]
  },
  {
   "source": [
    "## Import and read app data\n",
    "I have imported the given dataset into a folder called dataset.\n",
    "<br>\n"
   ],
   "cell_type": "markdown",
   "metadata": {}
  },
  {
   "cell_type": "code",
   "execution_count": 2,
   "metadata": {},
   "outputs": [],
   "source": [
    "def read_app_data():\n",
    "    application_record=pd.read_csv(r'C:\\Users\\anusha\\Desktop\\dataset\\application_record.csv')\n",
    "    return application_record\n",
    "application_record=read_app_data()\n"
   ]
  },
  {
   "source": [
    "## Import and read credit_record data"
   ],
   "cell_type": "markdown",
   "metadata": {}
  },
  {
   "cell_type": "code",
   "execution_count": 3,
   "metadata": {},
   "outputs": [],
   "source": [
    "credit_record=pd.read_csv(r'C:\\Users\\anusha\\Desktop\\dataset\\credit_record.csv')\n"
   ]
  },
  {
   "source": [
    "## Feature Creation\n"
   ],
   "cell_type": "markdown",
   "metadata": {}
  },
  {
   "cell_type": "code",
   "execution_count": 4,
   "metadata": {},
   "outputs": [],
   "source": [
    "#dropping ID\n",
    "#dropping Flag Mobil as the entire column has the same values\n",
    "\n",
    "def feature_creation():\n",
    "    application_record.drop(['ID','FLAG_MOBIL'],axis=1,inplace=True)\n",
    "    features=application_record.columns\n",
    "    return features\n",
    "\n",
    "features=feature_creation()\n"
   ]
  },
  {
   "cell_type": "code",
   "execution_count": 5,
   "metadata": {},
   "outputs": [],
   "source": [
    "features1=['CODE_GENDER','FLAG_OWN_CAR','FLAG_OWN_REALTY','OCCUPATION_TYPE']\n",
    "import sklearn\n",
    "from sklearn.preprocessing import LabelEncoder\n",
    "le = LabelEncoder()\n",
    "for a in features1:\n",
    "    application_record[a] = le.fit_transform(application_record[a].astype(str))\n"
   ]
  },
  {
   "cell_type": "code",
   "execution_count": 6,
   "metadata": {},
   "outputs": [
    {
     "output_type": "stream",
     "name": "stdout",
     "text": [
      "        CODE_GENDER  FLAG_OWN_CAR  FLAG_OWN_REALTY  CNT_CHILDREN  \\\n0                 1             1                1             0   \n1                 1             1                1             0   \n2                 1             1                1             0   \n3                 0             0                1             0   \n4                 0             0                1             0   \n...             ...           ...              ...           ...   \n438552            1             0                1             0   \n438553            0             0                0             0   \n438554            0             0                0             0   \n438555            0             0                1             0   \n438556            0             0                1             0   \n\n        AMT_INCOME_TOTAL  DAYS_BIRTH  DAYS_EMPLOYED  FLAG_WORK_PHONE  \\\n0               427500.0      -12005          -4542                1   \n1               427500.0      -12005          -4542                1   \n2               112500.0      -21474          -1134                0   \n3               270000.0      -19110          -3051                0   \n4               270000.0      -19110          -3051                0   \n...                  ...         ...            ...              ...   \n438552          135000.0      -22717         365243                0   \n438553          103500.0      -15939          -3007                0   \n438554           54000.0       -8169           -372                1   \n438555           72000.0      -21673         365243                0   \n438556          121500.0      -18858          -1201                0   \n\n        FLAG_PHONE  FLAG_EMAIL  ...  NAME_FAMILY_STATUS_Married  \\\n0                0           0  ...                           0   \n1                0           0  ...                           0   \n2                0           0  ...                           1   \n3                1           1  ...                           0   \n4                1           1  ...                           0   \n...            ...         ...  ...                         ...   \n438552           0           0  ...                           0   \n438553           0           0  ...                           0   \n438554           0           0  ...                           0   \n438555           0           0  ...                           1   \n438556           1           0  ...                           1   \n\n        NAME_FAMILY_STATUS_Separated  NAME_FAMILY_STATUS_Single / not married  \\\n0                                  0                                        0   \n1                                  0                                        0   \n2                                  0                                        0   \n3                                  0                                        1   \n4                                  0                                        1   \n...                              ...                                      ...   \n438552                             1                                        0   \n438553                             0                                        1   \n438554                             0                                        1   \n438555                             0                                        0   \n438556                             0                                        0   \n\n        NAME_FAMILY_STATUS_Widow  NAME_HOUSING_TYPE_Co-op apartment  \\\n0                              0                                  0   \n1                              0                                  0   \n2                              0                                  0   \n3                              0                                  0   \n4                              0                                  0   \n...                          ...                                ...   \n438552                         0                                  0   \n438553                         0                                  0   \n438554                         0                                  0   \n438555                         0                                  0   \n438556                         0                                  0   \n\n        NAME_HOUSING_TYPE_House / apartment  \\\n0                                         0   \n1                                         0   \n2                                         1   \n3                                         1   \n4                                         1   \n...                                     ...   \n438552                                    1   \n438553                                    1   \n438554                                    0   \n438555                                    1   \n438556                                    1   \n\n        NAME_HOUSING_TYPE_Municipal apartment  \\\n0                                           0   \n1                                           0   \n2                                           0   \n3                                           0   \n4                                           0   \n...                                       ...   \n438552                                      0   \n438553                                      0   \n438554                                      0   \n438555                                      0   \n438556                                      0   \n\n        NAME_HOUSING_TYPE_Office apartment  \\\n0                                        0   \n1                                        0   \n2                                        0   \n3                                        0   \n4                                        0   \n...                                    ...   \n438552                                   0   \n438553                                   0   \n438554                                   0   \n438555                                   0   \n438556                                   0   \n\n        NAME_HOUSING_TYPE_Rented apartment  NAME_HOUSING_TYPE_With parents  \n0                                        1                               0  \n1                                        1                               0  \n2                                        0                               0  \n3                                        0                               0  \n4                                        0                               0  \n...                                    ...                             ...  \n438552                                   0                               0  \n438553                                   0                               0  \n438554                                   0                               1  \n438555                                   0                               0  \n438556                                   0                               0  \n\n[438557 rows x 33 columns]\n"
     ]
    }
   ],
   "source": [
    "from sklearn.compose import ColumnTransformer\n",
    "from sklearn.preprocessing import OneHotEncoder\n",
    "application_record= pd.get_dummies(data=application_record,columns=['NAME_INCOME_TYPE','NAME_EDUCATION_TYPE','NAME_FAMILY_STATUS','NAME_HOUSING_TYPE'])\n",
    "\n",
    "\n",
    "print(application_record)\n",
    "\n"
   ]
  },
  {
   "cell_type": "code",
   "execution_count": null,
   "metadata": {},
   "outputs": [],
   "source": []
  },
  {
   "cell_type": "code",
   "execution_count": null,
   "metadata": {},
   "outputs": [],
   "source": []
  }
 ]
}