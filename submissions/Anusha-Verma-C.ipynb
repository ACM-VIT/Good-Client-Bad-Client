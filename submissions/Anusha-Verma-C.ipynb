{
 "metadata": {
  "language_info": {
   "codemirror_mode": {
    "name": "ipython",
    "version": 3
   },
   "file_extension": ".py",
   "mimetype": "text/x-python",
   "name": "python",
   "nbconvert_exporter": "python",
   "pygments_lexer": "ipython3",
   "version": "3.7.6-final"
  },
  "orig_nbformat": 2,
  "kernelspec": {
   "name": "Python 3.7.6 64-bit ('base': conda)",
   "display_name": "Python 3.7.6 64-bit ('base': conda)",
   "metadata": {
    "interpreter": {
     "hash": "18f47364f2f4870763990e46b7154981c710d71482bd8194938a3829d09494e5"
    }
   }
  }
 },
 "nbformat": 4,
 "nbformat_minor": 2,
 "cells": [
  {
   "cell_type": "code",
   "execution_count": 78,
   "metadata": {},
   "outputs": [],
   "source": [
    "import numpy as np\n",
    "import matplotlib.pyplot as plt\n",
    "import pandas as pd\n",
    "\n"
   ]
  },
  {
   "source": [
    "## Import and read app data\n",
    "I have imported the given dataset into a folder called dataset.\n",
    "<br>\n"
   ],
   "cell_type": "markdown",
   "metadata": {}
  },
  {
   "cell_type": "code",
   "execution_count": 79,
   "metadata": {},
   "outputs": [],
   "source": [
    "def read_app_data():\n",
    "    application_record=pd.read_csv(r'C:\\Users\\anusha\\Desktop\\dataset\\application_record.csv')\n",
    "    return application_record\n",
    "application_record=read_app_data()"
   ]
  },
  {
   "source": [
    "## Import and read credit_record data"
   ],
   "cell_type": "markdown",
   "metadata": {}
  },
  {
   "cell_type": "code",
   "execution_count": 80,
   "metadata": {},
   "outputs": [],
   "source": [
    "credit_record=pd.read_csv(r'C:\\Users\\anusha\\Desktop\\dataset\\credit_record.csv')\n"
   ]
  },
  {
   "source": [
    "## Feature Creation\n"
   ],
   "cell_type": "markdown",
   "metadata": {}
  },
  {
   "cell_type": "code",
   "execution_count": 85,
   "metadata": {},
   "outputs": [],
   "source": [
    "#dropping ID\n",
    "#dropping Flag Mobil as the entire column has the same values\n",
    "\n",
    "def feature_creation():\n",
    "    application_record.drop(['ID','FLAG_MOBIL'],axis=1,inplace=True)\n",
    "    features=application_record.columns\n",
    "    return features\n",
    "\n"
   ]
  }
 ]
}