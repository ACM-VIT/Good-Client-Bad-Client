{
 "metadata": {
  "language_info": {
   "codemirror_mode": {
    "name": "ipython",
    "version": 3
   },
   "file_extension": ".py",
   "mimetype": "text/x-python",
   "name": "python",
   "nbconvert_exporter": "python",
   "pygments_lexer": "ipython3",
   "version": "3.7.6-final"
  },
  "orig_nbformat": 2,
  "kernelspec": {
   "name": "Python 3.7.6 64-bit ('base': conda)",
   "display_name": "Python 3.7.6 64-bit ('base': conda)",
   "metadata": {
    "interpreter": {
     "hash": "18f47364f2f4870763990e46b7154981c710d71482bd8194938a3829d09494e5"
    }
   }
  }
 },
 "nbformat": 4,
 "nbformat_minor": 2,
 "cells": [
  {
   "cell_type": "code",
   "execution_count": 3,
   "metadata": {},
   "outputs": [],
   "source": [
    "import numpy as np\n",
    "import matplotlib.pyplot as plt\n",
    "import pandas as pd\n",
    "\n"
   ]
  },
  {
   "source": [
    "## Import and read app data\n",
    "I have imported the given dataset into a folder called dataset.\n",
    "<br>\n"
   ],
   "cell_type": "markdown",
   "metadata": {}
  },
  {
   "cell_type": "code",
   "execution_count": 4,
   "metadata": {},
   "outputs": [],
   "source": [
    "def read_app_data():\n",
    "    application_record=pd.read_csv(r'C:\\Users\\anusha\\Desktop\\dataset\\application_record.csv')\n",
    "    return application_record\n",
    "application_record=read_app_data()"
   ]
  },
  {
   "source": [
    "## Import and read credit_record data"
   ],
   "cell_type": "markdown",
   "metadata": {}
  },
  {
   "cell_type": "code",
   "execution_count": 5,
   "metadata": {},
   "outputs": [
    {
     "output_type": "stream",
     "name": "stdout",
     "text": [
      "              ID  MONTHS_BALANCE STATUS\n0        5001711               0      X\n1        5001711              -1      0\n2        5001711              -2      0\n3        5001711              -3      0\n4        5001712               0      C\n...          ...             ...    ...\n1048570  5150487             -25      C\n1048571  5150487             -26      C\n1048572  5150487             -27      C\n1048573  5150487             -28      C\n1048574  5150487             -29      C\n\n[1048575 rows x 3 columns]\n"
     ]
    }
   ],
   "source": [
    "credit_record=pd.read_csv(r'C:\\Users\\anusha\\Desktop\\dataset\\credit_record.csv')\n"
   ]
  },
  {
   "cell_type": "code",
   "execution_count": null,
   "metadata": {},
   "outputs": [],
   "source": []
  }
 ]
}